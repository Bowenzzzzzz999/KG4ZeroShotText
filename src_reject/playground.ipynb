{
 "cells": [
  {
   "cell_type": "code",
   "execution_count": 12,
   "metadata": {
    "collapsed": false
   },
   "outputs": [
    {
     "name": "stdout",
     "output_type": "stream",
     "text": [
      "3.5.2 (default, Nov 23 2017, 16:37:01) \n[GCC 5.4.0 20160609]\n"
     ]
    }
   ],
   "source": [
    "import os\n",
    "import re\n",
    "import nltk\n",
    "import numpy as np\n",
    "import pandas as pd\n",
    "\n",
    "import config\n",
    "import sys\n",
    "print(sys.version)\n"
   ]
  },
  {
   "cell_type": "code",
   "execution_count": 22,
   "metadata": {
    "collapsed": false
   },
   "outputs": [],
   "source": [
    "\n",
    "assert os.path.exists(config.conceptnet_path)\n",
    "conceptnet_df = pd.read_csv(config.conceptnet_path, names=[\"uri\", \"relation\", \"snode\", \"enode\", \"more\"], sep=\"\\t\")\n"
   ]
  },
  {
   "cell_type": "code",
   "execution_count": 2,
   "metadata": {
    "collapsed": false
   },
   "outputs": [
    {
     "name": "stdout",
     "output_type": "stream",
     "text": [
      "INFO:tensorflow:Initializing vocabulary from file: ../data/20-newsgroups/clean/vocab.txt\n"
     ]
    },
    {
     "name": "stderr",
     "output_type": "stream",
     "text": [
      "[TL] Vocabulary from ../data/20-newsgroups/clean/vocab.txt : <START_ID> <END_ID> <UNK_ID>\n"
     ]
    },
    {
     "name": "stderr",
     "output_type": "stream",
     "text": [
      "[TL]     vocabulary with 23568 words (includes start_word, end_word, unk_word)\n"
     ]
    },
    {
     "name": "stderr",
     "output_type": "stream",
     "text": [
      "[TL]       start_id: 35\n"
     ]
    },
    {
     "name": "stderr",
     "output_type": "stream",
     "text": [
      "[TL]       end_id  : 34\n"
     ]
    }
   ],
   "source": [
    "\n",
    "START_ID = '<START_ID>'\n",
    "END_ID = '<END_ID>'\n",
    "PAD_ID = '<PAD_ID>'\n",
    "UNK_ID = '<UNK_ID>'\n",
    "\n",
    "import tensorlayer as tl\n",
    "\n",
    "vocab = tl.nlp.Vocabulary(\n",
    "    config.news20_vocab_path, start_word=START_ID, end_word=END_ID, unk_word=UNK_ID\n",
    ")"
   ]
  },
  {
   "cell_type": "code",
   "execution_count": 17,
   "metadata": {
    "collapsed": true
   },
   "outputs": [
    {
     "name": "stdout",
     "output_type": "stream",
     "text": [
      "             relation          snode                   enode\n90911    /r/DefinedAs  /c/en/atheism     /c/en/denial_of_god\n90912    /r/DefinedAs  /c/en/atheism  /c/en/disbelief_in_god\n951697         /r/IsA  /c/en/atheism            /c/en/belief\n1301118  /r/RelatedTo  /c/en/atheism       /c/en/agnosticism\n1301119  /r/RelatedTo  /c/en/atheism            /c/en/atheal\n1301120  /r/RelatedTo  /c/en/atheism            /c/en/athean\n1301121  /r/RelatedTo  /c/en/atheism           /c/en/atheism\n1301122  /r/RelatedTo  /c/en/atheism         /c/en/atheonism\n1301123  /r/RelatedTo  /c/en/atheism             /c/en/deism\n1301124  /r/RelatedTo  /c/en/atheism        /c/en/monotheism\n1301125  /r/RelatedTo  /c/en/atheism       /c/en/panentheism\n1301126  /r/RelatedTo  /c/en/atheism         /c/en/pantheism\n1301127  /r/RelatedTo  /c/en/atheism        /c/en/polytheism\n1301128  /r/RelatedTo  /c/en/atheism          /c/en/religion\n1301129  /r/RelatedTo  /c/en/atheism            /c/en/theism\n2841940    /r/Synonym  /c/en/atheism           /c/en/atheism\n"
     ]
    },
    {
     "name": "stdout",
     "output_type": "stream",
     "text": [
      "                           relation                         snode  \\\n14075                    /r/Antonym                /c/en/religion   \n77613                     /r/Causes  /c/en/learning_about_science   \n203063               /r/DerivedFrom              /c/en/panatheism   \n277624   /r/EtymologicallyRelatedTo                 /c/en/adevism   \n278468   /r/EtymologicallyRelatedTo            /c/en/apeirotheism   \n324837                    /r/FormOf              /c/en/atheisms/n   \n324878                    /r/FormOf               /c/en/athiesm/n   \n1272212                /r/RelatedTo           /c/en/antiatheist/n   \n1272214                /r/RelatedTo         /c/en/antiatheistic/a   \n1275038                /r/RelatedTo       /c/en/antimetaphysics/n   \n1279079                /r/RelatedTo               /c/en/apatheism   \n1301121                /r/RelatedTo                 /c/en/atheism   \n1301136                /r/RelatedTo              /c/en/atheisms/n   \n1301137                /r/RelatedTo               /c/en/atheist/a   \n1301142                /r/RelatedTo               /c/en/atheist/n   \n1301157                /r/RelatedTo             /c/en/atheistic/a   \n1301159                /r/RelatedTo           /c/en/atheistical/a   \n1301292                /r/RelatedTo           /c/en/atheologist/n   \n1301297                /r/RelatedTo             /c/en/atheology/n   \n1301302                /r/RelatedTo            /c/en/atheophobe/n   \n1301308                /r/RelatedTo           /c/en/atheophobia/n   \n1301314                /r/RelatedTo           /c/en/atheophobic/a   \n1577379                /r/RelatedTo          /c/en/deconversion/n   \n1799306                /r/RelatedTo                     /c/en/god   \n2099852                /r/RelatedTo           /c/en/monolatrism/n   \n2142341                /r/RelatedTo           /c/en/new_atheism/n   \n2185961                /r/RelatedTo              /c/en/omnitheism   \n2221693                /r/RelatedTo            /c/en/panatheism/n   \n2232988                /r/RelatedTo        /c/en/pascal's_wager/n   \n2253034                /r/RelatedTo            /c/en/personal_god   \n2297230                /r/RelatedTo              /c/en/polytheism   \n2388444                /r/RelatedTo                /c/en/religion   \n2457875                /r/RelatedTo              /c/en/secularism   \n2621494                /r/RelatedTo           /c/en/tetratheism/n   \n2623916                /r/RelatedTo                /c/en/theism/n   \n2668879                /r/RelatedTo             /c/en/tritheism/n   \n2841940                  /r/Synonym                 /c/en/atheism   \n\n                 enode  \n14075    /c/en/atheism  \n77613    /c/en/atheism  \n203063   /c/en/atheism  \n277624   /c/en/atheism  \n278468   /c/en/atheism  \n324837   /c/en/atheism  \n324878   /c/en/atheism  \n1272212  /c/en/atheism  \n1272214  /c/en/atheism  \n1275038  /c/en/atheism  \n1279079  /c/en/atheism  \n1301121  /c/en/atheism  \n1301136  /c/en/atheism  \n1301137  /c/en/atheism  \n1301142  /c/en/atheism  \n1301157  /c/en/atheism  \n1301159  /c/en/atheism  \n1301292  /c/en/atheism  \n1301297  /c/en/atheism  \n1301302  /c/en/atheism  \n1301308  /c/en/atheism  \n1301314  /c/en/atheism  \n1577379  /c/en/atheism  \n1799306  /c/en/atheism  \n2099852  /c/en/atheism  \n2142341  /c/en/atheism  \n2185961  /c/en/atheism  \n2221693  /c/en/atheism  \n2232988  /c/en/atheism  \n2253034  /c/en/atheism  \n2297230  /c/en/atheism  \n2388444  /c/en/atheism  \n2457875  /c/en/atheism  \n2621494  /c/en/atheism  \n2623916  /c/en/atheism  \n2668879  /c/en/atheism  \n2841940  /c/en/atheism  \n"
     ]
    }
   ],
   "source": [
    "# print(df.loc[0])\n",
    "ndf = df[df[\"snode\"] == \"/c/en/%s\" % \"atheism\"]\n",
    "print(ndf[[\"relation\", \"snode\", \"enode\"]])\n",
    "ndf = df[df[\"enode\"] == \"/c/en/%s\" % \"atheism\"]\n",
    "print(ndf[[\"relation\", \"snode\", \"enode\"]])\n"
   ]
  },
  {
   "cell_type": "code",
   "execution_count": 174,
   "metadata": {},
   "outputs": [
    {
     "name": "stdout",
     "output_type": "stream",
     "text": [
      "['science']\n['atheism']\n['atheism']\n['atheism']\n['science']\n[]\n"
     ]
    }
   ],
   "source": [
    "\n",
    "def preprocess(text):\n",
    "    ntext = text.split(\"/\")[3] if \"/\" in text else text\n",
    "    ntext = re.sub(r'[\\W_]+', ' ', ntext)\n",
    "    textlist = ntext.split()\n",
    "    textlist = [t for t in textlist if vocab.word_to_id(t) != vocab.unk_id and len(t) >= 3]\n",
    "    \n",
    "    if len(textlist) <= 1:\n",
    "        return textlist\n",
    "    else:\n",
    "        text_with_tag = nltk.pos_tag(textlist)  # a list of words a list of words with part of speech\n",
    "        selected = [text_tag[0] for text_tag in text_with_tag \\\n",
    "                    if text_tag[1] in config.pos_dict and \\\n",
    "                    (config.pos_dict[text_tag[1]] == 'a' or config.pos_dict[text_tag[1]] == 'n')]\n",
    "        return selected\n",
    "\n",
    "print(preprocess(\"/c/en/learning_about_science/n\"))\n",
    "print(preprocess(\"/c/en/atheism/n\"))\n",
    "print(preprocess(\"/c/en/atheism_a/n\"))\n",
    "print(preprocess(\"atheism\"))\n",
    "print(preprocess(\"/c/en/christan_science\"))\n",
    "print(preprocess(\"dkjflasdk\"))\n"
   ]
  },
  {
   "cell_type": "code",
   "execution_count": null,
   "metadata": {},
   "outputs": [],
   "source": [
    "\n",
    "glove_dict = dict()\n",
    "glove_filename = config.word_embed_file_path\n",
    "with open(glove_filename, 'r') as f:\n",
    "    for idx, line in enumerate(f):\n",
    "        content = line.replace(\"\\n\", \"\").split(\" \")\n",
    "\n",
    "        word = content[0]\n",
    "        vect = np.array(content[1:]).astype(np.float32)\n",
    "        \n",
    "        glove_dict[word] = vect\n",
    "\n",
    "from scipy.spatial.distance import cosine\n",
    "\n",
    "print(cosine(glove_dict[\"religion\"], glove_dict[\"atheism\"]))\n",
    "print(cosine(glove_dict[\"religion\"], glove_dict[\"science\"]))\n",
    "print(cosine(glove_dict[\"atheism\"], glove_dict[\"science\"]))\n",
    "print(cosine(glove_dict[\"mac\"], glove_dict[\"windows\"]))\n"
   ]
  },
  {
   "cell_type": "code",
   "execution_count": 79,
   "metadata": {
    "collapsed": true
   },
   "outputs": [
    {
     "name": "stdout",
     "output_type": "stream",
     "text": [
      "['free', 'energy', 'technology', 'free', 'energy', 'technology', 'robert', 'mcelwaine', 'physicist', 'heavier', 'air', 'machine', 'laws', 'example', 'simon', 'demonstration', 'possible', 'known', 'substances', 'forms', 'machinery', 'forms', 'machine', 'long', 'distances', 'air', 'complete', 'possible', 'demonstration', 'physical', 'fact', 'such', 'wright', 'such', 'pronouncements', 'take', 'airplanes', 'physicists', 'other', 'things', 'several', 'free', 'energy', 'terms', 'such', 'pseudo', 'science', 'perpetual', 'motion', 'laws', 'energy', 'law', 'thermodynamics', 'energy', 'law', 'physicists', 'certain', 'things', 'things', 'such', 'common', 'orthodox', 'modern', 'science', 'cover', 'inconsistencies', 'contradictions', 'modern', 'theories', 'free', 'energy', 'devices', 'unlimited', 'supply', 'energy', 'universe', 'fuel', 'world', 'wide', 'energy', 'crisis', 'pollution', 'degradation', 'depletion', 'environment', 'free', 'energy', 'devices', 'energy', 'tap', 'energy', 'sources', 'forms', 'solar', 'wind', 'devices', 'energy', 'energy', 'solar', 'energy', 'dis', 'clouds', 'trees', 'earth', 'low', 'altitudes', 'high', 'likewise', 'wind', 'non', 'existent', 'solar', 'wind', 'power', 'power', 'cars', 'airplanes', 'free', 'energy', 'devices', 'such', 'limitations', 'example', 'least', 'patents', 'motors', 'permanent', 'energy', 'earth', 'magnetic', 'feedback', 'order', 'self', 'described', 'detail', 'science', 'mechanics', 'magnet', 'motor', 'pages', 'critical', 'sizes', 'shapes', 'orientations', 'such', 'motor', 'electric', 'generator', 'home', 'free', 'complete', 'descriptive', 'copies', 'patents', 'patent', 'jefferson', 'arlington', 'digit', 'patent', 'patents', 'university', 'library', 'inter', 'library', 'loan', 'second', 'type', 'free', 'energy', 'device', 'gray', 'motor', 'patent', 'tesla', 'coil', 'motor', 'inventor', 'joseph', 'newman', 'science', 'pages', 'taps', 'electro', 'magnetic', 'energy', 'induction', 'earth', 'resonance', 'cycles', 'gap', 'energy', 'coils', 'energy', 'important', 'total', 'inductance', 'capacitance', 'device', 'earth', 'resonance', 'order', 'power', 'output', 'output', 'spark', 'center', 'permanent', 'magnet', 'tesla', 'coil', 'coil', 'coil', 'output', 'power', 'earth', 'energy', 'power', 'research', 'austrian', 'invented', 'developed', 'turbine', 'erosion', 'erosion', 'sophisticated', 'mathematical', 'equations', 'book', 'free', 'energy', 'sources', 'davidson', 'water', 'pump', 'coil', 'reaches', 'critical', 'velocity', 'water', 'tubing', 'pump', 'pump', 'motor', 'electric', 'generator', 'device', 'energy', 'earth', 'rotation', 'effect', 'free', 'energy', 'device', 'air', 'motor', 'diesel', 'engine', 'cylinders', 'engine', 'solar', 'planetary', 'gears', 'fuel', 'self', 'own', 'air', 'compressor', 'engine', 'heat', 'buildings', 'high', 'torque', 'ideal', 'large', 'trucks', 'hills', 'inventor', 'differential', 'drive', 'crystals', 'supply', 'energy', 'trek', 'capacitor', 'plates', 'beam', 'particles', 'small', 'radioactive', 'source', 'common', 'household', 'other', 'energy', 'source', 'fact', 'free', 'energy', 'bulgarian', 'physicist', 'joseph', 'developed', 'atomic', 'fusion', 'reactor', 'deuterium', 'fuel', 'unlimited', 'quantities', 'water', 'radioactive', 'electricity', 'energy', 'steam', 'small', 'enough', 'power', 'large', 'enough', 'power', 'fusion', 'least', 'watts', 'power', 'watt', 'pages', 'fusion', 'experiments', 'university', 'utah', 'researchers', 'navy', 'researchers', 'china', 'naval', 'center', 'chemist', 'such', 'mass', 'helium', 'atomic', 'fusion', 'excess', 'heat', 'indications', 'laws', 'thermodynamics', 'example', 'physicist', 'dewey', 'larson', 'comprehensive', 'unified', 'theory', 'physical', 'universe', 'reciprocal', 'several', 'books', 'such', 'motion', 'universe', 'motion', 'physical', 'universe', 'distinct', 'half', 'matter', 'half', 'continuous', 'matter', 'energy', 'heat', 'laws', 'theory', 'universe', 'modern', 'orthodox', 'theories', 'phenomena', 'orthodox', 'physicists', 'astronomers', 'free', 'energy', 'devices', 'energy', 'flow', 'low', 'quality', 'energy', 'high', 'quality', 'energy', 'certain', 'such', 'mat', 'members', 'physical', 'universe', 'lowest', 'least', 'levels', 'universes', 'analogous', 'channels', 'books', 'masters', 'julian', 'worlds', 'example', 'physical', 'universe', 'long', 'members', 'higher', 'worlds', 'plausible', 'energy', 'higher', 'levels', 'physical', 'universe', 'boundary', 'matter', 'many', 'experiments', 'world', 'such', 'book', 'psychic', 'terms', 'enough', 'money', 'other', 'resources', 'mass', 'free', 'energy', 'equipment', 'conventional', 'energy', 'producer', 'government', 'government', 'total', 'supply', 'energy', 'resources', 'earth', 'decline', 'prices', 'energy', 'pollution', 'effects', 'effect', 'rain', 'radioactive', 'contamination', 'oil', 'mining', 'etc', 'government', 'research', 'free', 'energy', 'universities', 'own', 'subsidize', 'consumption', 'low', 'income', 'consumers', 'free', 'energy', 'long', 'effects', 'such', 'government', 'intervention', 'wide', 'quantity', 'energy', 'conventional', 'energy', 'producer', 'coal', 'mining', 'oil', 'electric', 'etc', 'employees', 'energy', 'resources', 'uranium', 'oil', 'prices', 'conventional', 'energy', 'supplies', 'free', 'energy', 'equipment', 'high', 'drop', 'supply', 'vcr', 'etc', 'costs', 'large', 'quantities', 'energy', 'produce', 'prices', 'consumers', 'consumers', 'costs', 'electric', 'bills', 'fuel', 'tourism', 'travelers', 'money', 'gasoline', 'cars', 'government', 'revenue', 'gasoline', 'other', 'fuels', 'other', 'energy', 'motive', 'many', 'conventional', 'energy', 'producer', 'earth', 'environment', 'government', 'information', 'etc', 'consult', 'sources', 'patents', 'books', 'reproduction', 'dissemination', 'important', 'information', 'robert', 'mcelwaine', 'physics']\n"
     ]
    }
   ],
   "source": [
    "text_df = pd.read_csv(config.news20_train_path)\n",
    "\n",
    "sample_text = preprocess(text_df[\"selected_tfidf\"].loc[0])\n",
    "print(sample_text[:])\n"
   ]
  },
  {
   "cell_type": "code",
   "execution_count": 52,
   "metadata": {
    "collapsed": true
   },
   "outputs": [
    {
     "name": "stdout",
     "output_type": "stream",
     "text": [
      "['free', 'energy', 'technology', 'free', 'energy', 'technology', 'robert', 'mcelwaine', 'physicist', 'heavier', 'air', 'machine', 'laws', 'example', 'simon', 'demonstration', 'possible', 'known', 'substances', 'forms', 'machinery', 'forms', 'machine', 'long', 'distances', 'air', 'complete', 'possible', 'demonstration', 'physical', 'fact', 'such', 'wright', 'such', 'pronouncements', 'take', 'airplanes', 'physicists', 'other', 'things', 'several', 'free', 'energy', 'terms', 'such', 'pseudo', 'science', 'perpetual', 'motion', 'laws', 'energy', 'law', 'thermodynamics', 'energy', 'law', 'physicists', 'certain', 'things', 'things', 'such', 'common', 'orthodox', 'modern', 'science', 'cover', 'inconsistencies', 'contradictions', 'modern', 'theories', 'free', 'energy', 'devices', 'unlimited', 'supply', 'energy', 'universe', 'fuel', 'world', 'wide', 'energy', 'crisis', 'pollution', 'degradation', 'depletion', 'environment', 'free', 'energy', 'devices', 'energy', 'tap', 'energy', 'sources', 'forms', 'solar', 'wind', 'devices', 'energy', 'energy', 'solar', 'energy', 'dis', 'clouds', 'trees', 'earth', 'low', 'altitudes', 'high', 'likewise', 'wind', 'non', 'existent', 'solar', 'wind', 'power', 'power', 'cars', 'airplanes', 'free', 'energy', 'devices', 'such', 'limitations', 'example', 'least', 'patents', 'motors', 'permanent', 'energy', 'earth', 'magnetic', 'feedback', 'order', 'self', 'described', 'detail', 'science', 'mechanics', 'magnet', 'motor', 'pages', 'critical', 'sizes', 'shapes', 'orientations', 'such', 'motor', 'electric', 'generator', 'home', 'free', 'complete', 'descriptive', 'copies', 'patents', 'patent', 'jefferson', 'arlington', 'digit', 'patent', 'patents', 'university', 'library', 'inter', 'library', 'loan', 'second', 'type', 'free', 'energy', 'device', 'gray', 'motor', 'patent', 'tesla', 'coil', 'motor', 'inventor', 'joseph', 'newman', 'science', 'pages', 'taps', 'electro', 'magnetic', 'energy', 'induction', 'earth', 'resonance', 'cycles', 'gap', 'energy', 'coils', 'energy', 'important', 'total', 'inductance', 'capacitance', 'device', 'earth', 'resonance', 'order', 'power', 'output', 'output', 'spark', 'center', 'permanent', 'magnet', 'tesla', 'coil', 'coil', 'coil', 'output', 'power', 'earth', 'energy', 'power', 'research', 'austrian', 'invented', 'developed', 'turbine', 'erosion', 'erosion', 'sophisticated', 'mathematical', 'equations', 'book', 'free', 'energy', 'sources', 'davidson', 'water', 'pump', 'coil', 'reaches', 'critical', 'velocity', 'water', 'tubing', 'pump', 'pump', 'motor', 'electric', 'generator', 'device', 'energy', 'earth', 'rotation', 'effect', 'free', 'energy', 'device', 'air', 'motor', 'diesel', 'engine', 'cylinders', 'engine', 'solar', 'planetary', 'gears', 'fuel', 'self', 'own', 'air', 'compressor', 'engine', 'heat', 'buildings', 'high', 'torque', 'ideal', 'large', 'trucks', 'hills', 'inventor', 'differential', 'drive', 'crystals', 'supply', 'energy', 'trek', 'capacitor', 'plates', 'beam', 'particles', 'small', 'radioactive', 'source', 'common', 'household', 'other', 'energy', 'source', 'fact', 'free', 'energy', 'bulgarian', 'physicist', 'joseph', 'developed', 'atomic', 'fusion', 'reactor', 'deuterium', 'fuel', 'unlimited', 'quantities', 'water', 'radioactive', 'electricity', 'energy', 'steam', 'small', 'enough', 'power', 'large', 'enough', 'power', 'fusion', 'least', 'watts', 'power', 'watt', 'pages', 'fusion', 'experiments', 'university', 'utah', 'researchers', 'navy', 'researchers', 'china', 'naval', 'center', 'chemist', 'such', 'mass', 'helium', 'atomic', 'fusion', 'excess', 'heat', 'indications', 'laws', 'thermodynamics', 'example', 'physicist', 'dewey', 'larson', 'comprehensive', 'unified', 'theory', 'physical', 'universe', 'reciprocal', 'several', 'books', 'such', 'motion', 'universe', 'motion', 'physical', 'universe', 'distinct', 'half', 'matter', 'half', 'continuous', 'matter', 'energy', 'heat', 'laws', 'theory', 'universe', 'modern', 'orthodox', 'theories', 'phenomena', 'orthodox', 'physicists', 'astronomers', 'free', 'energy', 'devices', 'energy', 'flow', 'low', 'quality', 'energy', 'high', 'quality', 'energy', 'certain', 'such', 'mat', 'members', 'physical', 'universe', 'lowest', 'least', 'levels', 'universes', 'analogous', 'channels', 'books', 'masters', 'julian', 'worlds', 'example', 'physical', 'universe', 'long', 'members', 'higher', 'worlds', 'plausible', 'energy', 'higher', 'levels', 'physical', 'universe', 'boundary', 'matter', 'many', 'experiments', 'world', 'such', 'book', 'psychic', 'terms', 'enough', 'money', 'other', 'resources', 'mass', 'free', 'energy', 'equipment', 'conventional', 'energy', 'producer', 'government', 'government', 'total', 'supply', 'energy', 'resources', 'earth', 'decline', 'prices', 'energy', 'pollution', 'effects', 'effect', 'rain', 'radioactive', 'contamination', 'oil', 'mining', 'etc', 'government', 'research', 'free', 'energy', 'universities', 'own', 'subsidize', 'consumption', 'low', 'income', 'consumers', 'free', 'energy', 'long', 'effects', 'such', 'government', 'intervention', 'wide', 'quantity', 'energy', 'conventional', 'energy', 'producer', 'coal', 'mining', 'oil', 'electric', 'etc', 'employees', 'energy', 'resources', 'uranium', 'oil', 'prices', 'conventional', 'energy', 'supplies', 'free', 'energy', 'equipment', 'high', 'drop', 'supply', 'vcr', 'etc', 'costs', 'large', 'quantities', 'energy', 'produce', 'prices', 'consumers', 'consumers', 'costs', 'electric', 'bills', 'fuel', 'tourism', 'travelers', 'money', 'gasoline', 'cars', 'government', 'revenue', 'gasoline', 'other', 'fuels', 'other', 'energy', 'motive', 'many', 'conventional', 'energy', 'producer', 'earth', 'environment', 'government', 'information', 'etc', 'consult', 'sources', 'patents', 'books', 'reproduction', 'dissemination', 'important', 'information', 'robert', 'mcelwaine', 'physics']\n"
     ]
    }
   ],
   "source": [
    "\n",
    "positive_relation_set = set([\n",
    "    '/r/IsA', '/rr/IsA', \n",
    "    '/r/PartOf', '/rr/PartOf', \n",
    "    '/r/AtLocation', '/rr/AtLocation', \n",
    "    '/r/RelatedTo', '/r/Causes',\n",
    "    '/r/Synonym', '/r/CreatedBy',\n",
    "    '/r/HasProperty', '/r/UsedFor'\n",
    "])\n",
    "\n",
    "negative_relation_set = set([\n",
    "    '/r/Antonym', '/r/DistinctFrom',\n",
    "    '/r/NotIsA', '/r/NotHasProperty',\n",
    "    '/r/NotUsedFor'\n",
    "])\n",
    "\n",
    "print(\"/r/IsA\" in positive_relation_set)\n",
    "print(\"/r/NotIsA\" in positive_relation_set)\n",
    "print(\"/r/IsA\" in negative_relation_set)\n",
    "print(\"/r/NotIsA\" in negative_relation_set)\n",
    "print(type(positive_relation_set))\n",
    "print(type(negative_relation_set))\n",
    "\n"
   ]
  },
  {
   "cell_type": "code",
   "execution_count": 121,
   "metadata": {
    "collapsed": false
   },
   "outputs": [],
   "source": [
    "def remove_word(word):\n",
    "    pword = preprocess(word)\n",
    "    pword = ' '.join(pword)\n",
    "    if vocab.word_to_id(pword) == vocab.unk_id or len(pword) < 3:\n",
    "        return np.nan\n",
    "    else:\n",
    "        return pword\n",
    "\n",
    "def binary_relation(relation):\n",
    "    if relation in positive_relation_set:\n",
    "        return True\n",
    "    elif relation in negative_relation_set:\n",
    "        return False\n",
    "    else:\n",
    "        return np.nan\n",
    "\n",
    "def preprocess_conceptnet(df):\n",
    "    ndf = df[[\"snode\", \"enode\", \"relation\"]]\n",
    "    ndf[\"relation\"] = ndf[\"relation\"].apply(lambda r: binary_relation(r))\n",
    "    ndf = ndf.dropna()\n",
    "    ndf = ndf.drop_duplicates()\n",
    "    ndf[\"snode\"] = ndf[\"snode\"].apply(lambda w: remove_word(w))\n",
    "    ndf[\"enode\"] = ndf[\"enode\"].apply(lambda w: remove_word(w))\n",
    "    ndf = ndf.dropna()\n",
    "    ndf = ndf.drop_duplicates()\n",
    "    return ndf\n",
    "\n",
    "# print(remove_word(\"/c/en/learning_about_science\"))"
   ]
  },
  {
   "cell_type": "code",
   "execution_count": 122,
   "metadata": {
    "collapsed": false
   },
   "outputs": [],
   "source": [
    "\n",
    "processed_conceptnet_df = preprocess_conceptnet(conceptnet_df)\n"
   ]
  },
  {
   "cell_type": "code",
   "execution_count": 123,
   "metadata": {
    "collapsed": false
   },
   "outputs": [],
   "source": [
    "print(processed_conceptnet_df)\n",
    "\n"
   ]
  },
  {
   "cell_type": "code",
   "execution_count": 187,
   "metadata": {
    "collapsed": false
   },
   "outputs": [],
   "source": [
    "\n",
    "def BFS(nodelist, relation_df, max_hop):\n",
    "    positive_node_dict = {\"pending\": set(), \"complete\": set()}\n",
    "    negative_node_dict = {\"pending\": set(), \"complete\": set()}\n",
    "    neutral_node_dict = {\"pending\": set(), \"complete\": set()}\n",
    "    controversial_node_dict = {\"pending\": set(), \"complete\": set()}\n",
    "    \n",
    "    hop_dict = dict()\n",
    "    \n",
    "    def add_positive(word):\n",
    "        if word in neutral_node_dict[\"pending\"]:\n",
    "            neutral_node_dict[\"pending\"].remove(word)\n",
    "            positive_node_dict[\"pending\"].add(word)\n",
    "            assert word not in positive_node_dict[\"complete\"]\n",
    "        elif word in neutral_node_dict[\"complete\"]:\n",
    "            neutral_node_dict[\"complete\"].remove(word)\n",
    "            positive_node_dict[\"pending\"].add(word)\n",
    "            assert word not in positive_node_dict[\"complete\"]\n",
    "        elif word in negative_node_dict[\"pending\"]:\n",
    "            negative_node_dict[\"pending\"].remove(word)\n",
    "            controversial_node_set.add(word)\n",
    "            # pass # do nothing\n",
    "        elif word in negative_node_dict[\"complete\"]:\n",
    "            negative_node_dict[\"complete\"].remove(word)\n",
    "            controversial_node_set.add(word)\n",
    "            # pass # do nothing\n",
    "        elif word in positive_node_dict[\"pending\"] or word in positive_node_dict[\"complete\"]:\n",
    "            pass # do nothing\n",
    "        elif word in controversial_node_dict[\"pending\"] or word in controversial_node_dict[\"complete\"]:\n",
    "            pass # do nothing\n",
    "        else:\n",
    "            positive_node_dict[\"pending\"].add(word)\n",
    "    \n",
    "    def add_negative(word):\n",
    "        if word in neutral_node_dict[\"pending\"]:\n",
    "            neutral_node_dict[\"pending\"].remove(word)\n",
    "            negative_node_dict[\"pending\"].add(word)\n",
    "            assert word not in negative_node_dict[\"complete\"]\n",
    "        elif word in neutral_node_dict[\"complete\"]:\n",
    "            neutral_node_dict[\"complete\"].remove(word)\n",
    "            negative_node_dict[\"pending\"].add(word)\n",
    "            assert word not in negative_node_dict[\"complete\"]\n",
    "        elif word in negative_node_dict[\"pending\"] or word in negative_node_dict[\"complete\"]:\n",
    "            pass # do nothing\n",
    "        elif word in positive_node_dict[\"pending\"]:\n",
    "            positive_node_dict[\"pending\"].remove(word)\n",
    "            # negative_node_dict[\"pending\"].add(word)\n",
    "            # controversial_node_set.add(word)\n",
    "        elif word in positive_node_dict[\"complete\"]:\n",
    "            positive_node_dict[\"complete\"].remove(word)\n",
    "            negative_node_dict[\"pending\"].add(word)\n",
    "            # controversial_node_set.add(word)\n",
    "        elif word in controversial_node_dict[\"pending\"] or word in controversial_node_dict[\"complete\"]:\n",
    "            pass # do nothing\n",
    "        else:\n",
    "            negative_node_dict[\"pending\"].add(word)\n",
    "    \n",
    "    def add_neutral(word):\n",
    "        if word in neutral_node_dict[\"pending\"] or word in neutral_node_dict[\"complete\"]:\n",
    "            pass # do nothing\n",
    "        elif word in negative_node_dict[\"pending\"] or word in negative_node_dict[\"complete\"]:\n",
    "            pass # do nothing\n",
    "        elif word in positive_node_dict[\"pending\"] or word in positive_node_dict[\"complete\"]:\n",
    "            pass # do nothing\n",
    "        elif word in controversial_node_dict[\"pending\"] or word in controversial_node_dict[\"complete\"]:\n",
    "            pass # do nothing\n",
    "        else:\n",
    "            neutral_node_dict[\"pending\"].add(word)\n",
    "            \n",
    "    for node in nodelist:\n",
    "        positive_node_dict[\"pending\"].add(node)\n",
    "        hop_dict[node] = 0\n",
    "    \n",
    "    print(\"BFS ...\")\n",
    "    round = 0\n",
    "    while len(positive_node_dict[\"pending\"]) + len(negative_node_dict[\"pending\"])> 0:\n",
    "        \n",
    "        round += 1\n",
    "        if round % 200 == 0:\n",
    "            print(round, len(positive_node_dict[\"pending\"]), len(negative_node_dict[\"pending\"]))\n",
    "        \n",
    "        if len(positive_node_dict[\"pending\"]) > 0:\n",
    "            current_node = positive_node_dict[\"pending\"].pop() \n",
    "            current_type = True\n",
    "            positive_node_dict[\"complete\"].add(current_node)\n",
    "        else:\n",
    "            current_node = negative_node_dict[\"pending\"].pop()\n",
    "            current_type = False\n",
    "            negative_node_dict[\"complete\"].add(current_node)\n",
    "\n",
    "        current_hop = hop_dict[current_node] + 1\n",
    "        if current_hop > max_hop:\n",
    "            continue\n",
    "        \n",
    "        df1 = relation_df[relation_df[\"snode\"] == current_node]\n",
    "        df2 = relation_df[relation_df[\"enode\"] == current_node]\n",
    "        current_df = pd.concat([df1, df2])\n",
    "        current_positive_relation_df = current_df[current_df[\"relation\"] == True]\n",
    "        current_negative_relation_df = current_df[current_df[\"relation\"] == False]\n",
    "        \n",
    "        for idx, row in current_positive_relation_df.iterrows():\n",
    "            node = row[\"snode\"] if row[\"snode\"] != current_node else row[\"enode\"]\n",
    "            if node == current_node:\n",
    "                continue\n",
    "            assert node != current_node\n",
    "            \n",
    "            if current_type: # current node is from positive_set\n",
    "                add_positive(node)\n",
    "            else: # current node is from negative_set\n",
    "                add_negative(node)\n",
    "                \n",
    "            hop_dict[node] = current_hop\n",
    "            \n",
    "        for idx, row in current_negative_relation_df.iterrows():\n",
    "            node = row[\"snode\"] if row[\"snode\"] != current_node else row[\"enode\"]\n",
    "            if node == current_node:\n",
    "                continue\n",
    "            assert node != current_node\n",
    "            if current_type: # current node is from positive_set\n",
    "                add_negative(node)\n",
    "            else: # current node is from negative_set\n",
    "                add_neutral(node)\n",
    "                \n",
    "            hop_dict[node] = current_hop\n",
    "        \n",
    "    \n",
    "    assert len(positive_node_dict[\"pending\"]) == 0\n",
    "    assert len(negative_node_dict[\"pending\"]) == 0\n",
    "    assert len(neutral_node_dict[\"pending\"]) == 0\n",
    "    assert len(controversial_node_dict[\"pending\"]) == 0\n",
    "    \n",
    "    positive_node_set = positive_node_dict[\"complete\"]\n",
    "    negative_node_set = negative_node_dict[\"complete\"]\n",
    "    neutral_node_set = neutral_node_dict[\"complete\"]\n",
    "    controversial_node_set = controversial_node_dict[\"complete\"]\n",
    "    \n",
    "    return positive_node_set, negative_node_set, neutral_node_set, controversial_node_set\n",
    "        \n",
    "            \n",
    "       \n"
   ]
  },
  {
   "cell_type": "code",
   "execution_count": 176,
   "metadata": {
    "collapsed": false
   },
   "outputs": [],
   "source": [
    "     \n",
    "# text_df = pd.read_csv(config.news20_train_path)\n",
    "# sample_text = preprocess(text_df[\"selected_tfidf\"].loc[0])\n",
    "pos_set, neg_set, neu_set, cont_set = BFS([\"atheism\"], processed_conceptnet_df, max_hop=3)\n",
    "# pos_set, neg_set, neu_set, cont_set = BFS([\"religion\"], processed_conceptnet_df, max_hop=3)\n"
   ]
  },
  {
   "cell_type": "code",
   "execution_count": 186,
   "metadata": {
    "collapsed": false
   },
   "outputs": [],
   "source": [
    "# print(sorted(pos_set))\n",
    "print(sorted(neg_set))\n",
    "print(sorted(neu_set))\n",
    "print(sorted(cont_set))\n",
    "# BFS([\"religion\"], processed_conceptnet_df)\n"
   ]
  },
  {
   "cell_type": "code",
   "execution_count": 101,
   "metadata": {},
   "outputs": [],
   "source": [
    ""
   ]
  },
  {
   "cell_type": "code",
   "execution_count": 101,
   "metadata": {},
   "outputs": [],
   "source": []
  },
  {
   "cell_type": "code",
   "execution_count": null,
   "metadata": {},
   "outputs": [],
   "source": []
  }
 ],
 "metadata": {
  "kernelspec": {
   "display_name": "Python 2",
   "language": "python",
   "name": "python2"
  },
  "language_info": {
   "codemirror_mode": {
    "name": "ipython",
    "version": 2
   },
   "file_extension": ".py",
   "mimetype": "text/x-python",
   "name": "python",
   "nbconvert_exporter": "python",
   "pygments_lexer": "ipython2",
   "version": "2.7.6"
  }
 },
 "nbformat": 4,
 "nbformat_minor": 0
}
