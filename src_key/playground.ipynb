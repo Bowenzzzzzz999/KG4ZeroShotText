{
 "cells": [
  {
   "cell_type": "code",
   "execution_count": 2,
   "metadata": {
    "collapsed": true
   },
   "outputs": [],
   "source": [
    "import numpy as np\n",
    "import pickle\n",
    "import os, re, json"
   ]
  },
  {
   "cell_type": "code",
   "execution_count": 7,
   "metadata": {
    "collapsed": true
   },
   "outputs": [],
   "source": [
    "classes = [x[1] for x in os.walk('../data/review/KDD2014-Chen-Dataset/Non-Electronics')][0]"
   ]
  },
  {
   "cell_type": "code",
   "execution_count": 62,
   "metadata": {
    "collapsed": true
   },
   "outputs": [],
   "source": [
    "classes = ['alt.atheism',\n",
    " 'comp.graphics',\n",
    " 'comp.os.ms-windows.misc',\n",
    " 'comp.sys.ibm.pc.hardware',\n",
    " 'comp.sys.mac.hardware',\n",
    " 'comp.windows.x',\n",
    " 'misc.forsale',\n",
    " 'rec.autos',\n",
    " 'rec.motorcycles',\n",
    " 'rec.sport.baseball',\n",
    " 'rec.sport.hockey',\n",
    " 'sci.crypt',\n",
    " 'sci.electronics',\n",
    " 'sci.med',\n",
    " 'sci.space',\n",
    " 'soc.religion.christian',\n",
    " 'talk.politics.guns',\n",
    " 'talk.politics.mideast',\n",
    " 'talk.politics.misc',\n",
    " 'talk.religion.misc']"
   ]
  },
  {
   "cell_type": "code",
   "execution_count": null,
   "metadata": {
    "collapsed": true
   },
   "outputs": [],
   "source": [
    "class_uri = ['/c/en/atheism',\n",
    "            '/c/en/graphics',\n",
    "            '/c/en/operating_system',\n",
    "            '/c/en/ibm',\n",
    "            '/c/en/mac',\n",
    "            '/c/en/windows',\n",
    "            '/c/en/sale',\n",
    "            '/c/en/auto',\n",
    "            '/c/en/motorcycle',\n",
    "            '/c/en/baseball',\n",
    "            '/c/en/hockey',\n",
    "            '/c/en/crypt',\n",
    "            '/c/en/electronics',\n",
    "            '/c/en/medical',\n",
    "            '/c/en/space',\n",
    "            '/c/en/christian',\n",
    "            '/c/en/gun',\n",
    "            '/c/en/middle_east',\n",
    "            '/c/en/politics',\n",
    "            '/c/en/religion']"
   ]
  },
  {
   "cell_type": "code",
   "execution_count": 15,
   "metadata": {},
   "outputs": [
    {
     "ename": "AttributeError",
     "evalue": "Can't get attribute 'Path' on <module '__main__'>",
     "output_type": "error",
     "traceback": [
      "\u001b[1;31m---------------------------------------------------------------------------\u001b[0m",
      "\u001b[1;31mAttributeError\u001b[0m                            Traceback (most recent call last)",
      "\u001b[1;32m<ipython-input-15-bd02308f18f0>\u001b[0m in \u001b[0;36m<module>\u001b[1;34m()\u001b[0m\n\u001b[1;32m----> 1\u001b[1;33m \u001b[0mPATHS_FROM\u001b[0m \u001b[1;33m=\u001b[0m \u001b[0mpickle\u001b[0m\u001b[1;33m.\u001b[0m\u001b[0mload\u001b[0m\u001b[1;33m(\u001b[0m\u001b[0mopen\u001b[0m\u001b[1;33m(\u001b[0m\u001b[1;34m\"../wordEmbeddings/PATHS_FROM_01.pickle\"\u001b[0m\u001b[1;33m,\u001b[0m \u001b[1;34m\"rb\"\u001b[0m\u001b[1;33m)\u001b[0m\u001b[1;33m)\u001b[0m\u001b[1;33m\u001b[0m\u001b[0m\n\u001b[0m",
      "\u001b[1;31mAttributeError\u001b[0m: Can't get attribute 'Path' on <module '__main__'>"
     ]
    }
   ],
   "source": [
    "PATHS_FROM = pickle.load(open(\"../wordEmbeddings/PATHS_FROM_01.pickle\", \"rb\"))"
   ]
  },
  {
   "cell_type": "code",
   "execution_count": 14,
   "metadata": {},
   "outputs": [
    {
     "ename": "TypeError",
     "evalue": "'<' not supported between instances of 'int' and 'str'",
     "output_type": "error",
     "traceback": [
      "\u001b[1;31m---------------------------------------------------------------------------\u001b[0m",
      "\u001b[1;31mTypeError\u001b[0m                                 Traceback (most recent call last)",
      "\u001b[1;32m<ipython-input-14-a21429cf0983>\u001b[0m in \u001b[0;36m<module>\u001b[1;34m()\u001b[0m\n\u001b[1;32m----> 1\u001b[1;33m \u001b[0mprint\u001b[0m\u001b[1;33m(\u001b[0m\u001b[1;36m2\u001b[0m \u001b[1;33m<\u001b[0m \u001b[1;34m'2'\u001b[0m\u001b[1;33m)\u001b[0m\u001b[1;33m\u001b[0m\u001b[0m\n\u001b[0m",
      "\u001b[1;31mTypeError\u001b[0m: '<' not supported between instances of 'int' and 'str'"
     ]
    }
   ],
   "source": [
    "print(2 < '2')"
   ]
  },
  {
   "cell_type": "code",
   "execution_count": 2,
   "metadata": {
    "collapsed": true
   },
   "outputs": [],
   "source": [
    "KG_VECTORS_2 = pickle.load(open(\"../wordEmbeddings/KG_VECTORS_2.pickle\", \"rb\"))"
   ]
  },
  {
   "cell_type": "code",
   "execution_count": 3,
   "metadata": {},
   "outputs": [
    {
     "name": "stdout",
     "output_type": "stream",
     "text": [
      "/c/en/company 21267\n",
      "/c/en/education 7514\n",
      "/c/en/artist 7035\n",
      "/c/en/athlete 5156\n",
      "/c/en/officer 12797\n",
      "/c/en/transport 14151\n",
      "/c/en/building 34099\n",
      "/c/en/nature 24775\n",
      "/c/en/village 11549\n",
      "/c/en/animal 62420\n",
      "/c/en/plant 46970\n",
      "/c/en/album 5381\n",
      "/c/en/film 15207\n",
      "/c/en/writing 18824\n"
     ]
    }
   ],
   "source": [
    "for key in KG_VECTORS_2:\n",
    "    print(key, len(KG_VECTORS_2[key]))"
   ]
  },
  {
   "cell_type": "code",
   "execution_count": 2,
   "metadata": {
    "collapsed": true
   },
   "outputs": [],
   "source": [
    "data = np.load('../results/test_5.npz')"
   ]
  },
  {
   "cell_type": "code",
   "execution_count": 3,
   "metadata": {},
   "outputs": [
    {
     "name": "stdout",
     "output_type": "stream",
     "text": [
      "['align_unseen', 'gt_seen', 'pred_unseen', 'align_seen', 'pred_seen', 'gt_unseen']\n"
     ]
    }
   ],
   "source": [
    "print(data.keys())"
   ]
  },
  {
   "cell_type": "code",
   "execution_count": 5,
   "metadata": {},
   "outputs": [
    {
     "name": "stdout",
     "output_type": "stream",
     "text": [
      "[[0. 0. 0. ... 1. 0. 0.]\n",
      " [0. 0. 0. ... 1. 0. 0.]\n",
      " [0. 0. 0. ... 1. 0. 0.]\n",
      " ...\n",
      " [0. 0. 0. ... 0. 0. 1.]\n",
      " [0. 0. 0. ... 0. 0. 1.]\n",
      " [0. 0. 0. ... 0. 0. 1.]] [[0. 0. 1. ... 0. 0. 0.]\n",
      " [0. 0. 0. ... 0. 0. 0.]\n",
      " [0. 0. 0. ... 0. 0. 0.]\n",
      " ...\n",
      " [0. 0. 0. ... 0. 0. 0.]\n",
      " [0. 0. 0. ... 0. 0. 1.]\n",
      " [0. 0. 0. ... 0. 1. 0.]] [[[2.47972156e-03 2.73659639e-03 2.02324498e-03 ... 3.87769453e-02\n",
      "   9.77866575e-02 9.69534069e-02]\n",
      "  [9.36909858e-03 9.62136686e-03 7.42427306e-03 ... 2.30694991e-02\n",
      "   2.38265380e-01 3.20462227e-01]\n",
      "  [2.78055595e-05 3.19405553e-05 2.46378622e-05 ... 4.07097396e-04\n",
      "   5.02543598e-02 9.46804345e-01]\n",
      "  ...\n",
      "  [1.32638263e-03 1.42502296e-03 1.00284070e-03 ... 2.21102890e-02\n",
      "   7.81787410e-02 7.99784884e-02]\n",
      "  [5.52700879e-03 5.93346125e-03 4.26079705e-03 ... 2.06842422e-02\n",
      "   1.01126134e-01 1.16921619e-01]\n",
      "  [6.46062428e-04 6.23823900e-04 4.90807986e-04 ... 2.92846859e-02\n",
      "   1.86704919e-01 2.34603584e-01]]\n",
      "\n",
      " [[6.90063986e-04 9.84093989e-04 1.23169867e-03 ... 3.82701159e-02\n",
      "   3.81529368e-02 3.80308591e-02]\n",
      "  [5.29663695e-04 6.02278451e-04 6.82233367e-04 ... 3.90720330e-02\n",
      "   3.88895832e-02 3.86962593e-02]\n",
      "  [6.87632710e-05 8.48660566e-05 9.50890390e-05 ... 3.82199734e-02\n",
      "   3.76153179e-02 3.70112620e-02]\n",
      "  ...\n",
      "  [1.41756915e-04 2.10260725e-04 2.90103897e-04 ... 3.08612790e-02\n",
      "   3.05657219e-02 3.02754361e-02]\n",
      "  [3.33553809e-03 4.03217180e-03 4.44618100e-03 ... 3.10532767e-02\n",
      "   3.08465715e-02 3.06411348e-02]\n",
      "  [4.58963262e-03 5.43083483e-03 5.94041031e-03 ... 3.26219201e-02\n",
      "   3.24874446e-02 3.23446356e-02]]\n",
      "\n",
      " [[9.29484086e-05 1.01948572e-04 1.28014130e-04 ... 4.45424132e-02\n",
      "   4.84711081e-02 4.68679108e-02]\n",
      "  [1.61007512e-02 1.50735630e-02 1.54737290e-02 ... 2.82802284e-02\n",
      "   3.24064158e-02 3.20519544e-02]\n",
      "  [1.64514072e-02 1.49667254e-02 1.58563368e-02 ... 3.79440971e-02\n",
      "   3.85501161e-02 3.84761319e-02]\n",
      "  ...\n",
      "  [3.53886792e-03 3.13561829e-03 3.07933893e-03 ... 9.39602926e-02\n",
      "   8.96991491e-02 7.06469044e-02]\n",
      "  [4.10166895e-03 3.48442211e-03 3.35854129e-03 ... 9.31810886e-02\n",
      "   8.18674862e-02 6.51768148e-02]\n",
      "  [2.82351422e-04 3.79926321e-04 4.07256972e-04 ... 9.29305181e-02\n",
      "   1.26906052e-01 1.44604608e-01]]\n",
      "\n",
      " ...\n",
      "\n",
      " [[1.13118347e-03 7.98821333e-04 9.69467976e-04 ... 3.64325494e-02\n",
      "   1.77054137e-01 3.66959333e-01]\n",
      "  [1.41836017e-05 1.92957305e-05 3.70096095e-05 ... 3.92572545e-02\n",
      "   1.27826944e-01 1.89651385e-01]\n",
      "  [1.40506636e-05 2.93109770e-05 5.48694770e-05 ... 2.51235459e-02\n",
      "   1.65612578e-01 6.02155745e-01]\n",
      "  ...\n",
      "  [1.65383145e-03 1.51271431e-03 2.73360801e-03 ... 3.17092314e-02\n",
      "   1.38547525e-01 4.39730108e-01]\n",
      "  [9.35687276e-04 1.09398202e-03 1.46829220e-03 ... 2.99800113e-02\n",
      "   1.06137946e-01 3.62486184e-01]\n",
      "  [3.47684021e-04 5.12859144e-04 9.52387054e-04 ... 4.88974713e-02\n",
      "   2.10994393e-01 3.32036048e-01]]\n",
      "\n",
      " [[1.27622101e-03 1.31411944e-03 2.67253700e-03 ... 9.35450941e-02\n",
      "   6.65606484e-02 1.22316293e-01]\n",
      "  [2.96693179e-04 2.99879466e-04 3.54160264e-04 ... 1.38710946e-01\n",
      "   1.64476097e-01 5.41510880e-01]\n",
      "  [4.53231763e-03 4.81416844e-03 6.06707437e-03 ... 4.13120426e-02\n",
      "   4.36760969e-02 6.00764193e-02]\n",
      "  ...\n",
      "  [9.52644477e-05 1.00084515e-04 1.12915593e-04 ... 1.74408019e-01\n",
      "   1.50803015e-01 5.16255856e-01]\n",
      "  [2.98506021e-03 3.17976251e-03 6.37577893e-03 ... 1.50026843e-01\n",
      "   9.81792584e-02 1.59858480e-01]\n",
      "  [1.94539048e-03 2.08848715e-03 2.85704061e-03 ... 2.38884110e-02\n",
      "   2.34433189e-02 3.08950897e-02]]\n",
      "\n",
      " [[9.67635998e-08 7.56348939e-08 3.44285098e-07 ... 5.40802022e-03\n",
      "   3.08000613e-02 2.90347580e-02]\n",
      "  [7.05863567e-05 1.08441112e-04 1.86280828e-04 ... 8.88532959e-03\n",
      "   1.91606004e-02 1.72492459e-01]\n",
      "  [5.34971093e-07 7.06479796e-07 1.63311302e-06 ... 3.92953586e-03\n",
      "   2.08391510e-02 5.91530278e-03]\n",
      "  ...\n",
      "  [2.67633800e-06 4.58320801e-06 1.57701797e-05 ... 1.27506594e-03\n",
      "   4.75780107e-03 1.13860732e-02]\n",
      "  [2.16820784e-08 2.54796024e-08 8.52984243e-08 ... 7.63947330e-03\n",
      "   5.86729683e-02 6.22756127e-03]\n",
      "  [9.40477065e-08 1.82366662e-07 7.95356073e-07 ... 1.50228653e-03\n",
      "   7.28443451e-03 6.51265681e-02]]]\n"
     ]
    }
   ],
   "source": [
    "print(data['gt_unseen'], data['pred_unseen'], data['align_unseen'])"
   ]
  },
  {
   "cell_type": "code",
   "execution_count": 66,
   "metadata": {
    "collapsed": true
   },
   "outputs": [],
   "source": [
    "def process_text(filename):\n",
    "    f = open(filename, 'r')\n",
    "    lines = [line for line in f]\n",
    "    f.close()\n",
    "    \n",
    "    processed = []\n",
    "    for line in lines:\n",
    "        if re.search(r'[a-zA-Z0-9]', line) is None:\n",
    "            line = ''\n",
    "        line = re.sub(r'([\\w.-]+)@([\\w.-]+)', 'EMAIL', line)\n",
    "        line = re.sub(r'[^A-Za-z0-9_.\\-\\\"\\',()?\\s]', ' ', line)\n",
    "#         line = re.sub(r'\\s+', ' ', line)\n",
    "#         print(line)\n",
    "        processed.append(line)\n",
    "    ans = ''.join(processed)\n",
    "    ans = re.sub(r'\\s+', ' ', ans)\n",
    "    return ans"
   ]
  },
  {
   "cell_type": "code",
   "execution_count": 68,
   "metadata": {
    "scrolled": false
   },
   "outputs": [
    {
     "name": "stdout",
     "output_type": "stream",
     "text": [
      "From EMAIL (Steve Hendricks) Subject Re Price Controls for Medical Care (WAS Re We're from the govt...) In article EMAIL EMAIL writes In article EMAIL , EMAIL (Steve Hendricks) writes Thanks to Kim for following up. I was hoping that someone would bring up the issue of cost compensation. The problem with the argument is that it fails to explain why kidney dialysis (RD) services have expanded massively in the last decade. After all, no one is forcing private providers to offer this service. If they are losing money on the treatment (which according to information I've collected from several providers they are not) why would they not simply limit their losses by cutting back on services (engage in effective rationing of supply) rather than expand the coverage to a larger market that must then be compensated by raising prices in other areas? Perhaps there is a competitive advantage in there after all. Would not reputable and dedicated physicians prefer to affiliate with an institution that offers dialysis services? Would they not therefore tend to admit patients in greater numbers to an institution that offered a full range of diagnostic and treatment options? Undoubtedly. In fact, it is the fact that hospitals frequently compete for physicians rather than for patients that (in part) complicates and undermines a simplistic free-market analysis of the market for medical care. Hospitals tend to lose money on all sorts of high-tech, high-price machinery. They manage to make it up on other charges. Once again, there is no evidence that this is true in regard to kidney dialysis. Although price controls have promoted an expansion of services to a much greater volume of patients, RD is still a profitable service. Otherwise, one would expect to see evidence of rationing rather than the vast expansion that has occurred. Remember, the notion that you can lose a little on each treatment but make it up in volume is not good economics even in a free market. ) Then how do you explain why grocery stores routinely offer an array of products at prices below cost? Are not grocery stores embedded in a relatively free market? Can you spell \"loss leader?\" I knew you could. Grocery stores do not attempt to make up the loss on an individual product by selling more of it. In fact, your argument above is that kidney dialysis is a loss leader for other medical treatments where lost revenue can be regained. But the evidence does not support this contention. Rather, it appears that price controls have disciplined the market by forcing an expansion of service and development of improved lower-cost technology to provide comparable benefits. Providers continue to profit from RD, they simply make less on each treatment than they would have if the price had risen at the rate that uncontrolled treatments have. There is no question that had price controls forced the price of RD substantially below its actual cost that some or all of the doomsday predictions of free-market advocates would have been seen -- restriction of service, lagging technological development, etc. Likewise, it appears that in the VA and armed forces medical care systems, where providers are government agencies, some of these negative impacts may occur. (RD patients in the VA system in Spokane, for example, must travel to Seattle, 300 miles away, for treatment.) The bottom line, however, is that this is an example of government intervention (of a rather extreme sort) that appears to have had beneficial results for both providers and consumers. Claims that \"government bureaucracy\" inevitably leads to undesirable outcomes in the marketplace should take such such cases into account. jsh Mark Steve Hendricks DOMAIN EMAIL \"One thing about data, it sure does cut UUCP ... uunet isc-br thor steveh the bulls t.\" - R. Hofferbert Ma Bell 509 838-8826 \n"
     ]
    }
   ],
   "source": [
    "print(process_text('..\\\\data\\\\newsgroup\\\\20news-18828\\\\talk.politics.misc\\\\176865'))"
   ]
  },
  {
   "cell_type": "code",
   "execution_count": 67,
   "metadata": {
    "collapsed": true
   },
   "outputs": [],
   "source": [
    "for c in classes:\n",
    "    directory = '..\\\\data\\\\newsgroup\\\\20news-18828-preprocessed\\\\'+c\n",
    "    if not os.path.exists(directory):\n",
    "        os.makedirs(directory)\n",
    "    for root, dirs, files in os.walk('..\\\\data\\\\newsgroup\\\\20news-18828\\\\'+c):\n",
    "        for f in files:\n",
    "            text = process_text(os.path.join(root, f))\n",
    "            with open(os.path.join(directory, f), 'w') as the_file:\n",
    "                the_file.write(text)"
   ]
  },
  {
   "cell_type": "code",
   "execution_count": 4,
   "metadata": {},
   "outputs": [],
   "source": [
    "data = json.load(open('..\\\\data\\\\review\\\\50EleReviews.json', 'r'))"
   ]
  },
  {
   "cell_type": "code",
   "execution_count": 10,
   "metadata": {},
   "outputs": [
    {
     "name": "stdout",
     "output_type": "stream",
     "text": [
      "50000 ['Monitor', 'Watch', 'Blu Ray Player', 'CDPlayer', 'Network Adapter', 'Battery', 'Graphics Card', 'Xbox', 'Telephone', 'Car Stereo', 'Video Recorder', 'Alarm Clock', 'Camera', 'Camcorder', 'HardDrive', 'Home Theater System', 'Subwoofer', 'Rice Cooker', 'Webcam', 'Kindle', 'Scanner', 'Radar Detector', 'Vacuum', 'Cable Modem', 'CellPhone', 'Wireless Router', 'Printer', 'Fan', 'Amplifier', 'Microwave', 'GPS', 'Microphone', 'TV', 'Projector', 'Mouse', 'Voice Recorder', 'Memory Card', 'Iron', 'Laptop', 'Headphone', 'Video Player', 'MP3 Player', 'Keyboard', 'Tablet', 'Media Player', 'Lamp', 'Remote Control', 'Speaker', 'Computer', 'DVDPlayer']\n"
     ]
    }
   ],
   "source": [
    "print(len(data['X']), data['target_names'])"
   ]
  }
 ],
 "metadata": {
  "kernelspec": {
   "display_name": "Python 3",
   "language": "python",
   "name": "python3"
  },
  "language_info": {
   "codemirror_mode": {
    "name": "ipython",
    "version": 3
   },
   "file_extension": ".py",
   "mimetype": "text/x-python",
   "name": "python",
   "nbconvert_exporter": "python",
   "pygments_lexer": "ipython3",
   "version": "3.6.3"
  }
 },
 "nbformat": 4,
 "nbformat_minor": 2
}
