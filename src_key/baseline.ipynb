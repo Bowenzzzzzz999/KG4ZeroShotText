{
 "cells": [
  {
   "cell_type": "code",
   "execution_count": 2,
   "metadata": {
    "collapsed": true
   },
   "outputs": [],
   "source": [
    "import pickle, json, requests, csv, copy, os, random\n",
    "from json import JSONDecodeError\n",
    "from text_to_uri import *\n",
    "import numpy as np\n",
    "import pprint as pp\n",
    "import urllib.request, urllib.parse\n",
    "import utils"
   ]
  },
  {
   "cell_type": "code",
   "execution_count": 26,
   "metadata": {
    "collapsed": true
   },
   "outputs": [],
   "source": [
    "class_uri = ['/c/en/atheism',\n",
    "            '/c/en/graphics',\n",
    "            '/c/en/operating_system',\n",
    "            '/c/en/ibm',\n",
    "            '/c/en/mac',\n",
    "            '/c/en/windows',\n",
    "            '/c/en/sale',\n",
    "            '/c/en/auto',\n",
    "            '/c/en/motorcycle',\n",
    "            '/c/en/baseball',\n",
    "            '/c/en/hockey',\n",
    "            '/c/en/crypt',\n",
    "            '/c/en/electronics',\n",
    "            '/c/en/medical',\n",
    "            '/c/en/space',\n",
    "            '/c/en/christian',\n",
    "            '/c/en/gun',\n",
    "            '/c/en/middle_east',\n",
    "            '/c/en/politics',\n",
    "            '/c/en/religion']"
   ]
  },
  {
   "cell_type": "code",
   "execution_count": 59,
   "metadata": {
    "collapsed": true
   },
   "outputs": [],
   "source": [
    "class_uri = ['/c/en/company',\n",
    "            '/c/en/education',\n",
    "            '/c/en/artist',\n",
    "            '/c/en/athlete',\n",
    "            '/c/en/officer',\n",
    "            '/c/en/transport',\n",
    "            '/c/en/building',\n",
    "            '/c/en/nature',\n",
    "            '/c/en/village',\n",
    "            '/c/en/animal',\n",
    "            '/c/en/plant',\n",
    "            '/c/en/album',\n",
    "            '/c/en/film',\n",
    "            '/c/en/writing']"
   ]
  },
  {
   "cell_type": "code",
   "execution_count": 10,
   "metadata": {
    "collapsed": true
   },
   "outputs": [],
   "source": [
    "class_uri = ['/c/en/monitor',\n",
    "             '/c/en/watch',\n",
    "             '/c/en/blu_ray',\n",
    "             '/c/en/cd_player',\n",
    "             '/c/en/network',\n",
    "             '/c/en/battery',\n",
    "             '/c/en/graphics_card',\n",
    "             '/c/en/xbox',\n",
    "             '/c/en/telephone',\n",
    "             '/c/en/car_stereo',\n",
    "             '/c/en/video_recorder',\n",
    "             '/c/en/alarm_clock',\n",
    "             '/c/en/camera',\n",
    "             '/c/en/camcorder',\n",
    "             '/c/en/hard_drive',\n",
    "             '/c/en/home_theater',\n",
    "             '/c/en/subwoofer',\n",
    "             '/c/en/rice_cooker',\n",
    "             '/c/en/webcam',\n",
    "             '/c/en/kindle',\n",
    "             '/c/en/scanner',\n",
    "             '/c/en/radar_detector',\n",
    "             '/c/en/vacuum',\n",
    "             '/c/en/cable_modem',\n",
    "             '/c/en/cellphone',\n",
    "             '/c/en/wireless_router',\n",
    "             '/c/en/printer',\n",
    "             '/c/en/fan',\n",
    "             '/c/en/amplifier',\n",
    "             '/c/en/microwave',\n",
    "             '/c/en/gps',\n",
    "             '/c/en/microphone',\n",
    "             '/c/en/tv',\n",
    "             '/c/en/projector',\n",
    "             '/c/en/mouse',\n",
    "             '/c/en/recorder',\n",
    "             '/c/en/memory_card',\n",
    "             '/c/en/iron',\n",
    "             '/c/en/laptop',\n",
    "             '/c/en/headphone',\n",
    "             '/c/en/video',\n",
    "             '/c/en/mp3_player',\n",
    "             '/c/en/keyboard',\n",
    "             '/c/en/tablet',\n",
    "             '/c/en/media_player',\n",
    "             '/c/en/lamp',\n",
    "             '/c/en/remote_control',\n",
    "             '/c/en/speaker',\n",
    "             '/c/en/computer',\n",
    "             '/c/en/dvd']"
   ]
  },
  {
   "cell_type": "code",
   "execution_count": 4,
   "metadata": {
    "collapsed": true
   },
   "outputs": [],
   "source": [
    "def random_seen_unseen(class_uri, random_unseen_percentage):\n",
    "    num_class = len(class_uri)\n",
    "    num_unseen_class = int(num_class * random_unseen_percentage)\n",
    "    class_id_list = list(range(num_class))\n",
    "    random.shuffle(class_id_list)\n",
    "    unseen_class = class_id_list[:num_unseen_class]\n",
    "    seen_class = class_id_list[num_unseen_class:]\n",
    "    return sorted(seen_class), sorted(unseen_class)"
   ]
  },
  {
   "cell_type": "code",
   "execution_count": 5,
   "metadata": {
    "collapsed": true
   },
   "outputs": [],
   "source": [
    "def read_test_file(filename):\n",
    "    with open(filename, encoding = 'utf-8') as csvfile:\n",
    "        reader = csv.DictReader(csvfile, delimiter=',')\n",
    "        test = []\n",
    "        for row in reader:\n",
    "#             test.append({'id': row['Unnamed: 0'], 'class': int(row['class'])-1, 'text': row['selected']})\n",
    "            test.append({'id': row[''], 'class': int(row['class'])-1, 'text': row['text']})\n",
    "    return test"
   ]
  },
  {
   "cell_type": "code",
   "execution_count": 6,
   "metadata": {
    "collapsed": true
   },
   "outputs": [],
   "source": [
    "def predict_by_class_labels(text, class_label):\n",
    "    class_label_for_match = [' ' + c.replace('_', ' ') + ' ' for c in class_label]\n",
    "    count = [(i, text.count(class_label_for_match[i])) for i in range(len(class_label_for_match))]\n",
    "    max_count = max([c[1] for c in count])\n",
    "    max_class = [c[0] for c in count if c[1] == max_count]\n",
    "    return random.choice(max_class) "
   ]
  },
  {
   "cell_type": "code",
   "execution_count": 7,
   "metadata": {
    "collapsed": true
   },
   "outputs": [],
   "source": [
    "def ans_index_to_matrix(class_uri, list_of_index):\n",
    "    matrix = np.zeros((len(list_of_index), len(class_uri)))\n",
    "    for i in range(len(matrix)):\n",
    "        matrix[i][list_of_index[i]] = 1\n",
    "    return matrix"
   ]
  },
  {
   "cell_type": "code",
   "execution_count": 8,
   "metadata": {
    "collapsed": true
   },
   "outputs": [],
   "source": [
    "def average_measures(stats_list):\n",
    "    stats = dict()\n",
    "    keys = stats_list[0].keys()\n",
    "    for mea in keys:\n",
    "        mea_list = [s[mea] for s in stats_list]\n",
    "        stats[mea] = np.mean(mea_list)\n",
    "    return stats"
   ]
  },
  {
   "cell_type": "code",
   "execution_count": 9,
   "metadata": {
    "collapsed": true
   },
   "outputs": [],
   "source": [
    "def classify_count_baseline(test, class_uri):\n",
    "    stats_list = []\n",
    "    stats_seen_list = []\n",
    "    stats_unseen_list = []\n",
    "    \n",
    "    for n_round in range(10):\n",
    "        seen_class, unseen_class = random_seen_unseen(class_uri, random_unseen_percentage = 0.25)\n",
    "        class_label = [c[6:] for c in class_uri]\n",
    "\n",
    "        seen_test = [x for x in test if x['class'] in seen_class]\n",
    "        unseen_test = [x for x in test if x['class'] in unseen_class]\n",
    "\n",
    "        seen_predicted = [predict_by_class_labels(x['text'], class_label) for x in seen_test]\n",
    "        unseen_predicted = [predict_by_class_labels(x['text'], class_label) for x in unseen_test]\n",
    "\n",
    "        seen_gt = [x['class'] for x in seen_test]\n",
    "        unseen_gt = [x['class'] for x in unseen_test]\n",
    "\n",
    "        seen_predicted_matrix = ans_index_to_matrix(class_uri, seen_predicted)\n",
    "        unseen_predicted_matrix = ans_index_to_matrix(class_uri, unseen_predicted)\n",
    "        seen_gt_matrix = ans_index_to_matrix(class_uri, seen_gt)\n",
    "        unseen_gt_matrix = ans_index_to_matrix(class_uri, unseen_gt)\n",
    "\n",
    "        stats = utils.get_statistics(np.concatenate((seen_predicted_matrix, unseen_predicted_matrix), axis = 0), np.concatenate((seen_gt_matrix, unseen_gt_matrix), axis = 0), True)\n",
    "        stats_seen = utils.get_statistics(seen_predicted_matrix, seen_gt_matrix, True)\n",
    "        stats_unseen = utils.get_statistics(unseen_predicted_matrix, unseen_gt_matrix , True)\n",
    "        \n",
    "        stats_list.append(stats)\n",
    "        stats_seen_list.append(stats_seen)\n",
    "        stats_unseen_list.append(stats_unseen)\n",
    "        \n",
    "        try:\n",
    "            print('Round:', n_round)\n",
    "            print('unseen:', unseen_class)\n",
    "            print('seen:', seen_class)\n",
    "\n",
    "            print(\"uns count baseline:  %s\" % (utils.dict_to_string_4_print(stats_unseen)))\n",
    "            print(\"see count baseline:  %s\" % (utils.dict_to_string_4_print(stats_seen)))\n",
    "            print(\"all count baseline:  %s\" % (utils.dict_to_string_4_print(stats)))\n",
    "        except:\n",
    "            print(\"error\")\n",
    "        print('------------------------------------------------------------------------')\n",
    "\n",
    "    stats = average_measures(stats_list)\n",
    "    stats_seen = average_measures(stats_seen_list)\n",
    "    stats_unseen = average_measures(stats_unseen_list)\n",
    "    \n",
    "    try:\n",
    "        print('On average')\n",
    "        print(\"uns count baseline:  %s\" % (utils.dict_to_string_4_print(stats_unseen)))\n",
    "        print(\"see count baseline:  %s\" % (utils.dict_to_string_4_print(stats_seen)))\n",
    "        print(\"all count baseline:  %s\" % (utils.dict_to_string_4_print(stats)))\n",
    "    except:\n",
    "        print(\"error\")\n",
    "    print('------------------------------------------------------------------------')"
   ]
  },
  {
   "cell_type": "code",
   "execution_count": 11,
   "metadata": {
    "scrolled": false
   },
   "outputs": [
    {
     "name": "stdout",
     "output_type": "stream",
     "text": [
      "Round: 0\n",
      "unseen: [9, 12, 13, 16, 20, 25, 26, 33, 38, 42, 46, 47]\n",
      "seen: [0, 1, 2, 3, 4, 5, 6, 7, 8, 10, 11, 14, 15, 17, 18, 19, 21, 22, 23, 24, 27, 28, 29, 30, 31, 32, 34, 35, 36, 37, 39, 40, 41, 43, 44, 45, 48, 49]\n",
      "uns count baseline:  accuracy: 0.974, macro-F1: 0.213, macro-precision: 0.151, macro-recall: 0.362, micro-F1: 0.362, micro-precision: 0.362, micro-recall: 0.362, single-label-error: 0.638\n",
      "see count baseline:  accuracy: 0.971, macro-F1: 0.243, macro-precision: 0.225, macro-recall: 0.264, micro-F1: 0.264, micro-precision: 0.264, micro-recall: 0.264, single-label-error: 0.736\n",
      "all count baseline:  accuracy: 0.972, macro-F1: 0.278, macro-precision: 0.269, macro-recall: 0.288, micro-F1: 0.288, micro-precision: 0.288, micro-recall: 0.288, single-label-error: 0.712\n",
      "------------------------------------------------------------------------\n",
      "Round: 1\n",
      "unseen: [1, 5, 13, 17, 20, 24, 26, 29, 31, 33, 36, 44]\n",
      "seen: [0, 2, 3, 4, 6, 7, 8, 9, 10, 11, 12, 14, 15, 16, 18, 19, 21, 22, 23, 25, 27, 28, 30, 32, 34, 35, 37, 38, 39, 40, 41, 42, 43, 45, 46, 47, 48, 49]\n",
      "uns count baseline:  accuracy: 0.976, macro-F1: 0.229, macro-precision: 0.162, macro-recall: 0.390, micro-F1: 0.390, micro-precision: 0.390, micro-recall: 0.390, single-label-error: 0.610\n",
      "see count baseline:  accuracy: 0.970, macro-F1: 0.236, macro-precision: 0.218, macro-recall: 0.258, micro-F1: 0.258, micro-precision: 0.258, micro-recall: 0.258, single-label-error: 0.742\n",
      "all count baseline:  accuracy: 0.972, macro-F1: 0.280, macro-precision: 0.272, macro-recall: 0.289, micro-F1: 0.289, micro-precision: 0.289, micro-recall: 0.289, single-label-error: 0.711\n",
      "------------------------------------------------------------------------\n",
      "Round: 2\n",
      "unseen: [4, 9, 10, 13, 14, 21, 26, 27, 37, 38, 47, 48]\n",
      "seen: [0, 1, 2, 3, 5, 6, 7, 8, 11, 12, 15, 16, 17, 18, 19, 20, 22, 23, 24, 25, 28, 29, 30, 31, 32, 33, 34, 35, 36, 39, 40, 41, 42, 43, 44, 45, 46, 49]\n",
      "uns count baseline:  accuracy: 0.974, macro-F1: 0.204, macro-precision: 0.146, macro-recall: 0.338, micro-F1: 0.338, micro-precision: 0.338, micro-recall: 0.338, single-label-error: 0.662\n",
      "see count baseline:  accuracy: 0.971, macro-F1: 0.252, macro-precision: 0.235, macro-recall: 0.272, micro-F1: 0.272, micro-precision: 0.272, micro-recall: 0.272, single-label-error: 0.728\n",
      "all count baseline:  accuracy: 0.972, macro-F1: 0.279, macro-precision: 0.270, macro-recall: 0.288, micro-F1: 0.288, micro-precision: 0.288, micro-recall: 0.288, single-label-error: 0.712\n",
      "------------------------------------------------------------------------\n",
      "Round: 3\n",
      "unseen: [4, 8, 9, 14, 21, 22, 23, 25, 35, 37, 42, 47]\n",
      "seen: [0, 1, 2, 3, 5, 6, 7, 10, 11, 12, 13, 15, 16, 17, 18, 19, 20, 24, 26, 27, 28, 29, 30, 31, 32, 33, 34, 36, 38, 39, 40, 41, 43, 44, 45, 46, 48, 49]\n",
      "uns count baseline:  accuracy: 0.973, macro-F1: 0.197, macro-precision: 0.143, macro-recall: 0.313, micro-F1: 0.312, micro-precision: 0.312, micro-recall: 0.312, single-label-error: 0.688\n",
      "see count baseline:  accuracy: 0.971, macro-F1: 0.255, macro-precision: 0.233, macro-recall: 0.281, micro-F1: 0.281, micro-precision: 0.281, micro-recall: 0.281, single-label-error: 0.719\n",
      "all count baseline:  accuracy: 0.972, macro-F1: 0.280, macro-precision: 0.271, macro-recall: 0.288, micro-F1: 0.288, micro-precision: 0.288, micro-recall: 0.288, single-label-error: 0.712\n",
      "------------------------------------------------------------------------\n",
      "Round: 4\n",
      "unseen: [1, 2, 3, 9, 16, 20, 35, 37, 42, 43, 46, 49]\n",
      "seen: [0, 4, 5, 6, 7, 8, 10, 11, 12, 13, 14, 15, 17, 18, 19, 21, 22, 23, 24, 25, 26, 27, 28, 29, 30, 31, 32, 33, 34, 36, 38, 39, 40, 41, 44, 45, 47, 48]\n",
      "uns count baseline:  accuracy: 0.973, macro-F1: 0.205, macro-precision: 0.148, macro-recall: 0.333, micro-F1: 0.333, micro-precision: 0.333, micro-recall: 0.333, single-label-error: 0.667\n",
      "see count baseline:  accuracy: 0.971, macro-F1: 0.252, macro-precision: 0.234, macro-recall: 0.274, micro-F1: 0.274, micro-precision: 0.274, micro-recall: 0.274, single-label-error: 0.726\n",
      "all count baseline:  accuracy: 0.972, macro-F1: 0.279, macro-precision: 0.270, macro-recall: 0.288, micro-F1: 0.288, micro-precision: 0.288, micro-recall: 0.288, single-label-error: 0.712\n",
      "------------------------------------------------------------------------\n",
      "Round: 5\n",
      "unseen: [3, 7, 11, 14, 20, 26, 29, 36, 44, 46, 47, 49]\n",
      "seen: [0, 1, 2, 4, 5, 6, 8, 9, 10, 12, 13, 15, 16, 17, 18, 19, 21, 22, 23, 24, 25, 27, 28, 30, 31, 32, 33, 34, 35, 37, 38, 39, 40, 41, 42, 43, 45, 48]\n",
      "uns count baseline:  accuracy: 0.970, macro-F1: 0.174, macro-precision: 0.132, macro-recall: 0.257, micro-F1: 0.257, micro-precision: 0.257, micro-recall: 0.257, single-label-error: 0.743\n",
      "see count baseline:  accuracy: 0.972, macro-F1: 0.266, macro-precision: 0.240, macro-recall: 0.299, micro-F1: 0.299, micro-precision: 0.299, micro-recall: 0.299, single-label-error: 0.701\n",
      "all count baseline:  accuracy: 0.972, macro-F1: 0.280, macro-precision: 0.271, macro-recall: 0.289, micro-F1: 0.289, micro-precision: 0.289, micro-recall: 0.289, single-label-error: 0.711\n",
      "------------------------------------------------------------------------\n",
      "Round: 6\n",
      "unseen: [2, 7, 12, 14, 16, 20, 28, 29, 34, 39, 42, 44]\n",
      "seen: [0, 1, 3, 4, 5, 6, 8, 9, 10, 11, 13, 15, 17, 18, 19, 21, 22, 23, 24, 25, 26, 27, 30, 31, 32, 33, 35, 36, 37, 38, 40, 41, 43, 45, 46, 47, 48, 49]\n",
      "uns count baseline:  accuracy: 0.974, macro-F1: 0.212, macro-precision: 0.154, macro-recall: 0.339, micro-F1: 0.339, micro-precision: 0.339, micro-recall: 0.339, single-label-error: 0.661\n",
      "see count baseline:  accuracy: 0.971, macro-F1: 0.249, macro-precision: 0.231, macro-recall: 0.271, micro-F1: 0.271, micro-precision: 0.271, micro-recall: 0.271, single-label-error: 0.729\n",
      "all count baseline:  accuracy: 0.972, macro-F1: 0.278, macro-precision: 0.269, macro-recall: 0.288, micro-F1: 0.288, micro-precision: 0.288, micro-recall: 0.288, single-label-error: 0.712\n",
      "------------------------------------------------------------------------\n",
      "Round: 7\n",
      "unseen: [2, 4, 5, 7, 15, 19, 20, 23, 32, 37, 46, 49]\n",
      "seen: [0, 1, 3, 6, 8, 9, 10, 11, 12, 13, 14, 16, 17, 18, 21, 22, 24, 25, 26, 27, 28, 29, 30, 31, 33, 34, 35, 36, 38, 39, 40, 41, 42, 43, 44, 45, 47, 48]\n",
      "uns count baseline:  accuracy: 0.968, macro-F1: 0.142, macro-precision: 0.110, macro-recall: 0.203, micro-F1: 0.203, micro-precision: 0.203, micro-recall: 0.203, single-label-error: 0.797\n",
      "see count baseline:  accuracy: 0.973, macro-F1: 0.286, macro-precision: 0.262, macro-recall: 0.314, micro-F1: 0.314, micro-precision: 0.314, micro-recall: 0.314, single-label-error: 0.686\n",
      "all count baseline:  accuracy: 0.972, macro-F1: 0.277, macro-precision: 0.268, macro-recall: 0.288, micro-F1: 0.288, micro-precision: 0.288, micro-recall: 0.288, single-label-error: 0.712\n",
      "------------------------------------------------------------------------\n",
      "Round: 8\n",
      "unseen: [14, 16, 17, 20, 21, 25, 35, 42, 43, 44, 46, 48]\n",
      "seen: [0, 1, 2, 3, 4, 5, 6, 7, 8, 9, 10, 11, 12, 13, 15, 18, 19, 22, 23, 24, 26, 27, 28, 29, 30, 31, 32, 33, 34, 36, 37, 38, 39, 40, 41, 45, 47, 49]\n",
      "uns count baseline:  accuracy: 0.971, macro-F1: 0.190, macro-precision: 0.145, macro-recall: 0.275, micro-F1: 0.275, micro-precision: 0.275, micro-recall: 0.275, single-label-error: 0.725\n",
      "see count baseline:  accuracy: 0.972, macro-F1: 0.264, macro-precision: 0.240, macro-recall: 0.293, micro-F1: 0.293, micro-precision: 0.293, micro-recall: 0.293, single-label-error: 0.707\n",
      "all count baseline:  accuracy: 0.972, macro-F1: 0.279, macro-precision: 0.270, macro-recall: 0.289, micro-F1: 0.289, micro-precision: 0.289, micro-recall: 0.289, single-label-error: 0.711\n",
      "------------------------------------------------------------------------\n",
      "Round: 9\n",
      "unseen: [3, 9, 18, 20, 22, 32, 33, 35, 36, 40, 45, 47]\n",
      "seen: [0, 1, 2, 4, 5, 6, 7, 8, 10, 11, 12, 13, 14, 15, 16, 17, 19, 21, 23, 24, 25, 26, 27, 28, 29, 30, 31, 34, 37, 38, 39, 41, 42, 43, 44, 46, 48, 49]\n",
      "uns count baseline:  accuracy: 0.972, macro-F1: 0.206, macro-precision: 0.156, macro-recall: 0.301, micro-F1: 0.301, micro-precision: 0.301, micro-recall: 0.301, single-label-error: 0.699\n",
      "see count baseline:  accuracy: 0.971, macro-F1: 0.255, macro-precision: 0.231, macro-recall: 0.284, micro-F1: 0.284, micro-precision: 0.284, micro-recall: 0.284, single-label-error: 0.716\n",
      "all count baseline:  accuracy: 0.972, macro-F1: 0.279, macro-precision: 0.270, macro-recall: 0.288, micro-F1: 0.288, micro-precision: 0.288, micro-recall: 0.288, single-label-error: 0.712\n",
      "------------------------------------------------------------------------\n",
      "On average\n",
      "uns count baseline:  accuracy: 0.972, macro-F1: 0.197, macro-precision: 0.145, macro-recall: 0.311, micro-F1: 0.311, micro-precision: 0.311, micro-recall: 0.311, single-label-error: 0.689\n",
      "see count baseline:  accuracy: 0.971, macro-F1: 0.256, macro-precision: 0.235, macro-recall: 0.281, micro-F1: 0.281, micro-precision: 0.281, micro-recall: 0.281, single-label-error: 0.719\n",
      "all count baseline:  accuracy: 0.972, macro-F1: 0.279, macro-precision: 0.270, macro-recall: 0.288, micro-F1: 0.288, micro-precision: 0.288, micro-recall: 0.288, single-label-error: 0.712\n",
      "------------------------------------------------------------------------\n"
     ]
    }
   ],
   "source": [
    "classify_count_baseline(test, class_uri)"
   ]
  },
  {
   "cell_type": "code",
   "execution_count": 21,
   "metadata": {
    "scrolled": true
   },
   "outputs": [
    {
     "name": "stdout",
     "output_type": "stream",
     "text": [
      "([0, 2, 3, 4, 5, 6, 7, 10, 11, 13, 14, 15, 16, 17, 18], [1, 8, 9, 12, 19])\n"
     ]
    }
   ],
   "source": [
    "print(random_seen_unseen(class_uri, 0.25))"
   ]
  },
  {
   "cell_type": "code",
   "execution_count": 22,
   "metadata": {},
   "outputs": [
    {
     "name": "stdout",
     "output_type": "stream",
     "text": [
      "['atheism', 'graphics', 'operating_system', 'ibm', 'mac', 'windows', 'sale', 'auto', 'motorcycle', 'baseball', 'hockey', 'crypt', 'electronics', 'medical', 'space', 'christian', 'gun', 'middle_east', 'politics', 'religion']\n"
     ]
    }
   ],
   "source": [
    "class_label = [c[6:] for c in class_uri]\n",
    "print(class_label)"
   ]
  },
  {
   "cell_type": "code",
   "execution_count": 31,
   "metadata": {
    "collapsed": true
   },
   "outputs": [],
   "source": [
    "test = read_test_file('../data/newsgroup/test.csv')\n",
    "# print(test[0]['class'], predict_by_class_labels(test[0]['text'], class_label))"
   ]
  },
  {
   "cell_type": "code",
   "execution_count": 58,
   "metadata": {
    "collapsed": true
   },
   "outputs": [],
   "source": [
    "test = read_test_file('../data/dbpedia/test.csv')"
   ]
  },
  {
   "cell_type": "code",
   "execution_count": 3,
   "metadata": {
    "collapsed": true
   },
   "outputs": [],
   "source": [
    "test = read_test_file('../data/review/test.csv')"
   ]
  }
 ],
 "metadata": {
  "kernelspec": {
   "display_name": "Python 3",
   "language": "python",
   "name": "python3"
  },
  "language_info": {
   "codemirror_mode": {
    "name": "ipython",
    "version": 3
   },
   "file_extension": ".py",
   "mimetype": "text/x-python",
   "name": "python",
   "nbconvert_exporter": "python",
   "pygments_lexer": "ipython3",
   "version": "3.6.3"
  }
 },
 "nbformat": 4,
 "nbformat_minor": 2
}
